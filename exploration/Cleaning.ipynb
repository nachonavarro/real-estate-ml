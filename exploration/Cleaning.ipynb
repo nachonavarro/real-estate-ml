{
 "cells": [
  {
   "cell_type": "code",
   "execution_count": 2,
   "metadata": {},
   "outputs": [],
   "source": [
    "import pandas as pd"
   ]
  },
  {
   "cell_type": "code",
   "execution_count": 27,
   "metadata": {},
   "outputs": [],
   "source": [
    "df = pd.read_csv('data/properties.csv')"
   ]
  },
  {
   "cell_type": "code",
   "execution_count": 30,
   "metadata": {},
   "outputs": [],
   "source": [
    "df = df[\n",
    "    [\n",
    "        'fireplaces',\n",
    "        'garage_spaces',\n",
    "        'category_code',\n",
    "        'market_value',\n",
    "        'number_of_bathrooms',\n",
    "        'number_of_bedrooms',\n",
    "        'number_stories',\n",
    "        'sale_date',\n",
    "        'sale_price',\n",
    "        'total_area',\n",
    "        'total_livable_area',\n",
    "        'lat',\n",
    "        'lng'\n",
    "    ]\n",
    "]"
   ]
  },
  {
   "cell_type": "markdown",
   "metadata": {},
   "source": [
    "## Filtering\n",
    "\n",
    "We are going to filter based on:\n",
    "  * `category_code`: We only care about category code 1 (which is single family)"
   ]
  },
  {
   "cell_type": "code",
   "execution_count": 40,
   "metadata": {},
   "outputs": [],
   "source": [
    "df = df[\n",
    "    (df['number_of_bathrooms'] > 0) &\n",
    "    (df['number_of_bedrooms'] > 0) &\n",
    "    (df['category_code'] == 1.0) &\n",
    "    (20_000 < df['sale_price']) &\n",
    "    (df['sale_price'] < 5_000_000)\n",
    "]"
   ]
  },
  {
   "cell_type": "code",
   "execution_count": 42,
   "metadata": {},
   "outputs": [],
   "source": [
    "df.to_csv('data/clean_properties.csv')"
   ]
  },
  {
   "cell_type": "code",
   "execution_count": null,
   "metadata": {},
   "outputs": [],
   "source": []
  }
 ],
 "metadata": {
  "kernelspec": {
   "display_name": "Python 3",
   "language": "python",
   "name": "python3"
  },
  "language_info": {
   "codemirror_mode": {
    "name": "ipython",
    "version": 3
   },
   "file_extension": ".py",
   "mimetype": "text/x-python",
   "name": "python",
   "nbconvert_exporter": "python",
   "pygments_lexer": "ipython3",
   "version": "3.7.5"
  }
 },
 "nbformat": 4,
 "nbformat_minor": 2
}
